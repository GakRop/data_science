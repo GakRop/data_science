{
  "nbformat": 4,
  "nbformat_minor": 0,
  "metadata": {
    "colab": {
      "provenance": []
    },
    "kernelspec": {
      "name": "python3",
      "display_name": "Python 3"
    },
    "language_info": {
      "name": "python"
    }
  },
  "cells": [
    {
      "cell_type": "code",
      "execution_count": null,
      "metadata": {
        "colab": {
          "base_uri": "https://localhost:8080/"
        },
        "id": "Ph9eFVXWSHG4",
        "outputId": "af1a1c7c-64b8-494c-be58-7094977c7e82"
      },
      "outputs": [
        {
          "output_type": "stream",
          "name": "stdout",
          "text": [
            "[-1, 2]\n"
          ]
        }
      ],
      "source": [
        "#Prblem 1\n",
        "\n",
        "def problem1():\n",
        "  A = [[2,1],[1,3]]\n",
        "  v = [-1, 1]\n",
        "\n",
        "  product = [0 for i in range(2)]\n",
        "\n",
        "  #compute A x v\n",
        "  #Av = [[A[0][0]*v[0] + A[0][1]*v[1]], [A[1][0]*v[0] + A[1][1]*v[1]]]\n",
        "\n",
        "  for i in range(len(A)):\n",
        "    product[i] = A[i][0] * v[0] + A[i][1] * v[1]\n",
        "\n",
        "  return product\n",
        "\n",
        "Av = problem1()\n",
        "print(Av)"
      ]
    },
    {
      "cell_type": "code",
      "source": [
        "#Problem 2\n",
        "import math\n",
        "import numpy as np\n",
        "import pandas as pd\n",
        "import matplotlib.pyplot as plt\n",
        "\n",
        "a = math.sqrt(3)\n",
        "\n",
        "A = [[a/2,-1/2],\n",
        "     [1/2,a/2]]\n",
        "\n",
        "D = [[1,1.5], \n",
        "     [1,2], \n",
        "     [3,4], \n",
        "     [-1,-1], \n",
        "     [-1,1], \n",
        "     [1,-2], \n",
        "     [2,2], \n",
        "     [2,3]]"
      ],
      "metadata": {
        "id": "3ZnuRgKaSVHq"
      },
      "execution_count": null,
      "outputs": []
    },
    {
      "cell_type": "code",
      "source": [
        "#Problem 2.a\n",
        "def problem2_a(dataset):\n",
        "  X1 = [0 for i in range(len(dataset))]\n",
        "  X2 = [0 for i in range(len(dataset))]\n",
        "\n",
        "  for i in range(len(dataset)):\n",
        "    X1[i] = dataset[i][0]\n",
        "    X2[i] = dataset[i][1]\n",
        "    \n",
        "  plt.scatter(X1, X2)\n",
        "  plt.xlabel(\"X1\")\n",
        "  plt.ylabel(\"X2\")\n",
        "\n",
        "problem2_a(A)\n",
        "problem2_a(D)"
      ],
      "metadata": {
        "colab": {
          "base_uri": "https://localhost:8080/",
          "height": 279
        },
        "id": "2fE9AAa6Trxy",
        "outputId": "25770fb2-0797-4eda-a3b9-55fc6064610e"
      },
      "execution_count": null,
      "outputs": [
        {
          "output_type": "display_data",
          "data": {
            "text/plain": [
              "<Figure size 432x288 with 1 Axes>"
            ],
            "image/png": "[encoded data removed]"
          },
          "metadata": {
            "needs_background": "light"
          }
        }
      ]
    },
    {
      "cell_type": "code",
      "source": [
        "#Problem 2.b\n",
        "#Treating each row as a 2-dimensional vector, \n",
        "#apply the linear transformationA to each row. \n",
        "#In other words, let xi be the i-th row of D. \n",
        "#For each xi,  nd the matrix-vector product Axi. \n",
        "#For example, x_2 = 1/2\n",
        "\n",
        "def problem2_b(set1 ,set2):\n",
        "  product = [[0 for i in range(2)] for j in range(8)]\n",
        "\n",
        " #i is the row in the two data sets here\n",
        "\n",
        "  for i in range(len(set2)):\n",
        "    product[i][0] = set1[0][0] * set2[i][0] + set1[0][1] * set2[i][1]\n",
        "    product[i][1] = set1[1][0] * set2[i][0] + set1[1][1] * set2[i][1]\n",
        "\n",
        "\n",
        "  return product\n",
        "\n",
        "product = problem2_b(A, D)\n",
        "for i in range(len(product)):\n",
        "  print(product[i])\n",
        "\n",
        "#product = [[root3/2 * 1 + -1/2 * 1.5, 1/2 * 1 + root3/2 * 1.5], ]"
      ],
      "metadata": {
        "id": "ynBfqIVPrTpo",
        "colab": {
          "base_uri": "https://localhost:8080/"
        },
        "outputId": "0470a89e-aefd-47a0-b609-d278cf671c2b"
      },
      "execution_count": null,
      "outputs": [
        {
          "output_type": "stream",
          "name": "stdout",
          "text": [
            "[0.1160254037844386, 1.799038105676658]\n",
            "[-0.1339745962155614, 2.232050807568877]\n",
            "[0.598076211353316, 4.964101615137754]\n",
            "[-0.3660254037844386, -1.3660254037844386]\n",
            "[-1.3660254037844386, 0.3660254037844386]\n",
            "[1.8660254037844386, -1.2320508075688772]\n",
            "[0.7320508075688772, 2.732050807568877]\n",
            "[0.2320508075688772, 3.598076211353316]\n"
          ]
        }
      ]
    },
    {
      "cell_type": "code",
      "source": [
        "#Problem 2.c\n",
        "fig, ax = plt.subplots()\n",
        "\n",
        "def problem2_c(dataset, C, S, L):\n",
        "  X1 = [0 for i in range(len(dataset))]\n",
        "  X2 = [0 for i in range(len(dataset))]\n",
        "\n",
        "  for i in range(len(dataset)):\n",
        "    X1[i] = dataset[i][0]\n",
        "    X2[i] = dataset[i][1]\n",
        "    \n",
        "  ax.scatter(X1, X2, color = C, marker = S, label = L)\n",
        "  #ax.xlabel(\"X1\")\n",
        "  #ax.ylabel(\"X2\")\n",
        "  leg = ax.legend()\n",
        "\n",
        "problem2_c(A, \"b\", \"o\", \"original set A\")\n",
        "problem2_c(D, \"g\", \"*\", \"original set D\")\n",
        "problem2_c(product, \"r\", \"D\", \"transformed set\")"
      ],
      "metadata": {
        "id": "tneXeSR8O1Tg",
        "colab": {
          "base_uri": "https://localhost:8080/",
          "height": 265
        },
        "outputId": "624c4483-e943-4cd5-f343-6854d27fce27"
      },
      "execution_count": null,
      "outputs": [
        {
          "output_type": "display_data",
          "data": {
            "text/plain": [
              "<Figure size 432x288 with 1 Axes>"
            ],
            "image/png": "[encoded data removed]"
          },
          "metadata": {
            "needs_background": "light"
          }
        }
      ]
    },
    {
      "cell_type": "code",
      "source": [
        "#Problem 2.d\n",
        "#multidimensional mean\n",
        "\n",
        "def problem2_d(set):\n",
        "  mean = [0 for i in range(len(set[0]))]\n",
        "  sum1 = 0\n",
        "  sum2 = 0\n",
        "\n",
        "  for i in range(len(set)):\n",
        "    sum1 += set[i][0]\n",
        "    sum2 += set[i][1]\n",
        "\n",
        "  mean[0] = sum1/len(set)\n",
        "  mean[1] = sum2/len(set)\n",
        "\n",
        "  return mean\n",
        "\n",
        "multidimensional_mean = problem2_d(D)\n",
        "print(multidimensional_mean)"
      ],
      "metadata": {
        "colab": {
          "base_uri": "https://localhost:8080/"
        },
        "id": "T2B37ivOhY2g",
        "outputId": "07e7399c-d762-4de8-9cf6-2e87053fbbbd"
      },
      "execution_count": null,
      "outputs": [
        {
          "output_type": "stream",
          "name": "stdout",
          "text": [
            "[1.0, 1.3125]\n"
          ]
        }
      ]
    },
    {
      "cell_type": "code",
      "source": [
        "#Problem 2.e\n",
        "#write down the mean-centered data matrix\n",
        "\n",
        "def problem2_e(set, mean):\n",
        "  mean_centered_data = [[0 for i in range(2)] for j in range(8)]\n",
        "  \n",
        "  for i in range(len(set)):\n",
        "    mean_centered_data[i][0] = set[i][0] - mean[0]\n",
        "    mean_centered_data[i][1] = set[i][1] - mean[1]\n",
        "\n",
        "  return mean_centered_data\n",
        "\n",
        "mean_centered_data = problem2_e(D, multidimensional_mean)\n",
        "\n",
        "for i in range(len(mean_centered_data)):\n",
        "  print(mean_centered_data[i])"
      ],
      "metadata": {
        "colab": {
          "base_uri": "https://localhost:8080/"
        },
        "id": "WFZ8T39EjveK",
        "outputId": "364f929a-60e2-4126-87e9-2a76956a5fef"
      },
      "execution_count": null,
      "outputs": [
        {
          "output_type": "stream",
          "name": "stdout",
          "text": [
            "[0.0, 0.1875]\n",
            "[0.0, 0.6875]\n",
            "[2.0, 2.6875]\n",
            "[-2.0, -2.3125]\n",
            "[-2.0, -0.3125]\n",
            "[0.0, -3.3125]\n",
            "[1.0, 0.6875]\n",
            "[1.0, 1.6875]\n"
          ]
        }
      ]
    },
    {
      "cell_type": "code",
      "source": [
        "#Problem 2.f\n",
        "\n",
        "fig, ax = plt.subplots()\n",
        "\n",
        "def problem2_f(dataset, C, S, L):\n",
        "  X1 = [0 for i in range(len(dataset))]\n",
        "  X2 = [0 for i in range(len(dataset))]\n",
        "\n",
        "  for i in range(len(dataset)):\n",
        "    X1[i] = dataset[i][0]\n",
        "    X2[i] = dataset[i][1]\n",
        "    \n",
        "  ax.scatter(X1, X2, color = C, marker = S, label = L)\n",
        "  #ax.xlabel(\"X1\")\n",
        "  #ax.ylabel(\"X2\")\n",
        "  leg = ax.legend()\n",
        "\n",
        "problem2_f(D, \"b\", \"o\", \"original set D\")\n",
        "problem2_f(mean_centered_data, \"g\", \"*\", \"mean-centered set of D\")"
      ],
      "metadata": {
        "colab": {
          "base_uri": "https://localhost:8080/",
          "height": 265
        },
        "id": "DkyvsGcPl9GS",
        "outputId": "f64893a1-83ad-4dac-db3a-5ff0f88a61b4"
      },
      "execution_count": null,
      "outputs": [
        {
          "output_type": "display_data",
          "data": {
            "text/plain": [
              "<Figure size 432x288 with 1 Axes>"
            ],
            "image/png": "[encoded data removed]"
          },
          "metadata": {
            "needs_background": "light"
          }
        }
      ]
    },
    {
      "cell_type": "code",
      "source": [
        "#Problem 2.g\n",
        "#covariance = (1/(n-1)) * sum of (xi1 - u1)(xi2 - u2)\n",
        "\n",
        "def problem2_g(set, mean):\n",
        "  cov_mat = [[0 for i in range(2)] for j in range(2)]\n",
        "  sum = 0\n",
        "  n = len(set)\n",
        "  \n",
        "  for i in range(len(cov_mat)):\n",
        "    for j in range(len(cov_mat)):\n",
        "      for k in range(len(set)):\n",
        "        sum += (set[k][i] - mean[i]) * (set[k][j] - mean[j])\n",
        "\n",
        "      cov_mat[i][j] = (1/(n-1)) * sum\n",
        "      sum = 0\n",
        "\n",
        "  return cov_mat\n",
        "\n",
        "cov_mat = problem2_g(D, multidimensional_mean)\n",
        "\n",
        "for i in range(len(cov_mat)):\n",
        "  print(cov_mat[i])"
      ],
      "metadata": {
        "colab": {
          "base_uri": "https://localhost:8080/"
        },
        "id": "twXr3sDJpDM4",
        "outputId": "16115540-d414-4ec9-be99-d6fc3fc37bb1"
      },
      "execution_count": null,
      "outputs": [
        {
          "output_type": "stream",
          "name": "stdout",
          "text": [
            "[2.0, 1.857142857142857]\n",
            "[1.857142857142857, 3.924107142857143]\n"
          ]
        }
      ]
    },
    {
      "cell_type": "code",
      "source": [
        "#Problem 2.h\n",
        "#covariance matrix of the centered data matrix Z\n",
        "\n",
        "multidimensional_mean_for_Z = [0, 0]\n",
        "\n",
        "cov_mat_of_Z = problem2_g(mean_centered_data, multidimensional_mean_for_Z)\n",
        "\n",
        "for i in range(len(cov_mat_of_Z)):\n",
        "  print(cov_mat_of_Z[i])"
      ],
      "metadata": {
        "colab": {
          "base_uri": "https://localhost:8080/"
        },
        "id": "Mj3fwTUuyoh2",
        "outputId": "5b710669-646d-41f4-d021-7496929f577a"
      },
      "execution_count": null,
      "outputs": [
        {
          "output_type": "stream",
          "name": "stdout",
          "text": [
            "[2.0, 1.857142857142857]\n",
            "[1.857142857142857, 3.924107142857143]\n"
          ]
        }
      ]
    },
    {
      "cell_type": "code",
      "source": [
        "#Problem 2.i\n",
        "#covariance matrix of standard normalized data set\n",
        "\n",
        "from sklearn import preprocessing\n",
        "import numpy as np\n",
        "\n",
        "normalized_D = preprocessing.normalize(D)\n",
        "\n",
        "multidimensional_mean_for_normalized = problem2_d(normalized_D)\n",
        "\n",
        "cov_mat_of_normalized = problem2_g(normalized_D, multidimensional_mean_for_normalized)\n",
        "\n",
        "for i in range(len(cov_mat_of_normalized)):\n",
        "  print(cov_mat_of_normalized[i])"
      ],
      "metadata": {
        "colab": {
          "base_uri": "https://localhost:8080/"
        },
        "id": "H0LoqY8w0yaP",
        "outputId": "a037df3c-bce8-4be3-a2f2-f5dc4375b083"
      },
      "execution_count": null,
      "outputs": [
        {
          "output_type": "stream",
          "name": "stdout",
          "text": [
            "[0.3465272700238676, 0.16445929281973798]\n",
            "[0.16445929281973798, 0.5525065516831164]\n"
          ]
        }
      ]
    }
  ]
}