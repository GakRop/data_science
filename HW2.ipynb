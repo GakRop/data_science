{
  "nbformat": 4,
  "nbformat_minor": 0,
  "metadata": {
    "colab": {
      "provenance": []
    },
    "kernelspec": {
      "name": "python3",
      "display_name": "Python 3"
    },
    "language_info": {
      "name": "python"
    }
  },
  "cells": [
    {
      "cell_type": "code",
      "source": [
        "Y = [[1,0,0,1,0,1,0,0,0], [0,1,0,0,1,0,1,0,0],[0,0,1,0,1,0,0,1,0],[0,0,1,0,1,0,0,0,1],[1,0,0,1,0,1,0,0,0],[0,0,1,1,0,1,0,0,0],[0,1,0,0,1,0,0,0,1]]"
      ],
      "metadata": {
        "id": "kjr-0PMhJvqw"
      },
      "execution_count": null,
      "outputs": []
    },
    {
      "cell_type": "code",
      "execution_count": null,
      "metadata": {
        "colab": {
          "base_uri": "https://localhost:8080/"
        },
        "id": "QChdMl5MtyNF",
        "outputId": "741b7d33-485e-41f0-831d-d05e14c26287"
      },
      "outputs": [
        {
          "output_type": "stream",
          "name": "stdout",
          "text": [
            "[['red', 'yes', 'north'], ['blue', 'no', 'south'], ['yellow', 'no', 'east'], ['yellow', 'no', 'west'], ['red', 'yes', 'north'], ['yellow', 'yes', 'north'], ['blue', 'no', 'west']]\n"
          ]
        }
      ],
      "source": [
        "D  = [[\"red\", \"yes\", \"north\"],[\"blue\", \"no\", \"south\"],[\"yellow\", \"no\", \"east\"],[\"yellow\", \"no\", \"west\"],[\"red\", \"yes\", \"north\"],[\"yellow\", \"yes\", \"north\"],[\"blue\", \"no\", \"west\"]]\n",
        "print(D)"
      ]
    },
    {
      "cell_type": "code",
      "source": [
        "import matplotlib.pyplot as plt\n",
        "\n",
        "num_of_yes = 0\n",
        "num_of_no = 0\n",
        "i = 0\n",
        "\n",
        "for i in range(len(D)):\n",
        "  if (D[i][1] == \"yes\"):\n",
        "    num_of_yes+=1\n",
        "  elif (D[i][1] == \"no\"):\n",
        "    num_of_no+=1\n",
        "\n",
        "X2 = [\"yes\", \"no\"]\n",
        "num = [num_of_yes, num_of_no]\n",
        "\n",
        "plt.bar(X2, num)\n",
        "plt.xlabel(\"yes/no\")\n",
        "plt.ylabel(\"num\")"
      ],
      "metadata": {
        "colab": {
          "base_uri": "https://localhost:8080/",
          "height": 296
        },
        "id": "4AfWAURbut9B",
        "outputId": "b90c0052-16ee-4505-c316-b273cae95a3d"
      },
      "execution_count": null,
      "outputs": [
        {
          "output_type": "execute_result",
          "data": {
            "text/plain": [
              "Text(0, 0.5, 'num')"
            ]
          },
          "metadata": {},
          "execution_count": 16
        },
        {
          "output_type": "display_data",
          "data": {
            "image/png": "[encoded data removed]",
            "text/plain": [
              "<Figure size 432x288 with 1 Axes>"
            ]
          },
          "metadata": {
            "needs_background": "light"
          }
        }
      ]
    },
    {
      "cell_type": "code",
      "source": [
        "#red blue yellow yes no north south east west\n",
        "Y = [[1,0,0,1,0,1,0,0,0], [0,1,0,0,1,0,1,0,0],[0,0,1,0,1,0,0,1,0],[0,0,1,0,1,0,0,0,1],[1,0,0,1,0,1,0,0,0],[0,0,1,1,0,1,0,0,0],[0,1,0,0,1,0,0,0,1]]"
      ],
      "metadata": {
        "id": "gQFVlILZz2sb"
      },
      "execution_count": null,
      "outputs": []
    },
    {
      "cell_type": "code",
      "source": [],
      "metadata": {
        "id": "up2_UQI6Judc"
      },
      "execution_count": null,
      "outputs": []
    },
    {
      "cell_type": "code",
      "source": [
        "e = (((Y[1][0]-Y[6][0]))**2+((Y[1][1]-Y[6][1]))**2+((Y[1][2]-Y[6][2]))**2+((Y[1][3]-Y[6][3]))**2+((Y[1][4]-Y[6][4]))**2+((Y[1][5]-Y[6][5]))**2+((Y[1][6]-Y[6][6]))**2+((Y[1][7]-Y[6][7]))**2+((Y[1][8]-Y[6][8]))**2)**(1/2)\n",
        "print(e)"
      ],
      "metadata": {
        "colab": {
          "base_uri": "https://localhost:8080/"
        },
        "id": "9A2q3gKVEZz9",
        "outputId": "0f5ae4e6-840c-430c-982c-4e960f329dbe"
      },
      "execution_count": null,
      "outputs": [
        {
          "output_type": "stream",
          "name": "stdout",
          "text": [
            "1.4142135623730951\n"
          ]
        }
      ]
    },
    {
      "cell_type": "code",
      "source": [
        "d = (Y[1][0]*Y[6][0])+(Y[1][1]*Y[6][1])+(Y[1][2]*Y[6][2])+(Y[1][3]*Y[6][3])+(Y[1][4]*Y[6][4])+(Y[1][5]*Y[6][5])+(Y[1][6]*Y[6][6])+(Y[1][7]*Y[6][7])+(Y[1][8]*Y[6][8])\n",
        "print(d)"
      ],
      "metadata": {
        "colab": {
          "base_uri": "https://localhost:8080/"
        },
        "id": "Yu9dLi2cGoum",
        "outputId": "b3a7ae52-e6c6-4f28-8d85-c564ae34c8b8"
      },
      "execution_count": null,
      "outputs": [
        {
          "output_type": "stream",
          "name": "stdout",
          "text": [
            "2\n"
          ]
        }
      ]
    },
    {
      "cell_type": "code",
      "source": [
        "def humming(x, y):\n",
        "  if (x != y):\n",
        "    return 1\n",
        "  elif (x == y):\n",
        "    return 0\n",
        "\n",
        "h = (humming(Y[1][0],Y[6][0])+humming(Y[1][1],Y[6][1])+humming(Y[1][2],Y[6][2])+humming(Y[1][3],Y[6][3])+humming(Y[1][4],Y[6][4])+humming(Y[1][5],Y[6][5])+humming(Y[1][6],Y[6][6])+humming(Y[1][7],Y[6][7])+humming(Y[1][8],Y[6][8]))\n",
        "\n",
        "print(h)"
      ],
      "metadata": {
        "colab": {
          "base_uri": "https://localhost:8080/"
        },
        "id": "kCjy9pfeHm3K",
        "outputId": "234365bc-f674-4959-e2c5-8fd23887e831"
      },
      "execution_count": null,
      "outputs": [
        {
          "output_type": "stream",
          "name": "stdout",
          "text": [
            "2\n"
          ]
        }
      ]
    },
    {
      "cell_type": "code",
      "source": [
        "def jNum(x, y):\n",
        "  if (x == 1 and y == 1):\n",
        "    return 1\n",
        "  else:\n",
        "    return 0\n",
        "\n",
        "def jDeno(x, y):\n",
        "  if (x == 0 and y == 0):\n",
        "    return 0\n",
        "  else:\n",
        "    return 1\n",
        "\n",
        "j = (jNum(Y[1][0],Y[6][0])+jNum(Y[1][1],Y[6][1])+jNum(Y[1][2],Y[6][2])+jNum(Y[1][3],Y[6][3])+jNum(Y[1][4],Y[6][4])+jNum(Y[1][5],Y[6][5])+jNum(Y[1][6],Y[6][6])+jNum(Y[1][7],Y[6][7])+jNum(Y[1][8],Y[6][8]))/(jDeno(Y[1][0],Y[6][0])+jDeno(Y[1][1],Y[6][1])+jDeno(Y[1][2],Y[6][2])+jDeno(Y[1][3],Y[6][3])+jDeno(Y[1][4],Y[6][4])+jDeno(Y[1][5],Y[6][5])+jDeno(Y[1][6],Y[6][6])+jDeno(Y[1][7],Y[6][7])+jDeno(Y[1][8],Y[6][8]))\n",
        "print(j)"
      ],
      "metadata": {
        "colab": {
          "base_uri": "https://localhost:8080/"
        },
        "id": "z-zQ_-miHnAt",
        "outputId": "557ad1d1-dc2d-4d30-8035-2a6f3d5751df"
      },
      "execution_count": null,
      "outputs": [
        {
          "output_type": "stream",
          "name": "stdout",
          "text": [
            "0.5\n"
          ]
        }
      ]
    },
    {
      "cell_type": "code",
      "source": [
        "Y"
      ],
      "metadata": {
        "colab": {
          "base_uri": "https://localhost:8080/"
        },
        "id": "AKzsgY6AJzLS",
        "outputId": "0eacba2b-9502-4b8b-fbe2-d5c7c0e9c571"
      },
      "execution_count": null,
      "outputs": [
        {
          "output_type": "execute_result",
          "data": {
            "text/plain": [
              "[[1, 0, 0, 1, 0, 1, 0, 0, 0],\n",
              " [0, 1, 0, 0, 1, 0, 1, 0, 0],\n",
              " [0, 0, 1, 0, 1, 0, 0, 1, 0],\n",
              " [0, 0, 1, 0, 1, 0, 0, 0, 1],\n",
              " [1, 0, 0, 1, 0, 1, 0, 0, 0],\n",
              " [0, 0, 1, 1, 0, 1, 0, 0, 0],\n",
              " [0, 1, 0, 0, 1, 0, 0, 0, 1]]"
            ]
          },
          "metadata": {},
          "execution_count": 8
        }
      ]
    },
    {
      "cell_type": "code",
      "source": [
        "def mean(index):\n",
        "  total = 0\n",
        "  i = 0\n",
        "  for i in range(len(Y)):\n",
        "    if (Y[i][index] == 1):\n",
        "      total += 1\n",
        "\n",
        "  return total/len(Y)\n",
        "\n",
        "\n",
        "mean_x1 = mean(0)\n",
        "mean_x2 = mean(1)\n",
        "mean_x3 = mean(2)\n",
        "mean_x4 = mean(3)\n",
        "mean_x5 = mean(4)\n",
        "mean_x6 = mean(5)\n",
        "mean_x7 = mean(6)\n",
        "mean_x8 = mean(7)\n",
        "mean_x9 = mean(8)\n",
        "\n",
        "\n",
        "print(\"mean_x1 :\", mean_x1)\n",
        "print(\"mean_x2 :\", mean_x2)\n",
        "print(\"mean_x3 :\", mean_x3)\n",
        "print(\"mean_x4 :\", mean_x4)\n",
        "print(\"mean_x5 :\", mean_x5)\n",
        "print(\"mean_x6 :\", mean_x6)\n",
        "print(\"mean_x7 :\", mean_x7)\n",
        "print(\"mean_x8 :\", mean_x8)\n",
        "print(\"mean_x9 :\", mean_x9)"
      ],
      "metadata": {
        "colab": {
          "base_uri": "https://localhost:8080/"
        },
        "id": "5ILIjBueJ18U",
        "outputId": "15d7139d-d6c9-4cf5-e964-e85053ac0efb"
      },
      "execution_count": null,
      "outputs": [
        {
          "output_type": "stream",
          "name": "stdout",
          "text": [
            "mean_x1 : 0.2857142857142857\n",
            "mean_x2 : 0.2857142857142857\n",
            "mean_x3 : 0.42857142857142855\n",
            "mean_x4 : 0.42857142857142855\n",
            "mean_x5 : 0.5714285714285714\n",
            "mean_x6 : 0.42857142857142855\n",
            "mean_x7 : 0.14285714285714285\n",
            "mean_x8 : 0.14285714285714285\n",
            "mean_x9 : 0.2857142857142857\n"
          ]
        }
      ]
    },
    {
      "cell_type": "code",
      "source": [
        "def variance(index, mean):\n",
        "  total = 0\n",
        "  i = 0\n",
        "  for i in range(len(Y)):\n",
        "    total = total + (Y[i][index]-mean)**2\n",
        "\n",
        "  return total/(len(Y)-1)\n",
        "\n",
        "\n",
        "var_x1 = variance(0, mean_x1)\n",
        "var_x2 = variance(1, mean_x2)\n",
        "var_x3 = variance(2, mean_x3)\n",
        "var_x4 = variance(3, mean_x4)\n",
        "var_x5 = variance(4, mean_x5)\n",
        "var_x6 = variance(5, mean_x6)\n",
        "var_x7 = variance(6, mean_x7)\n",
        "var_x8 = variance(7, mean_x8)\n",
        "var_x9 = variance(8, mean_x9)\n",
        "\n",
        "\n",
        "print(\"var_x1 :\", var_x1)\n",
        "print(\"var_x2 :\", var_x2)\n",
        "print(\"var_x3 :\", var_x3)\n",
        "print(\"var_x4 :\", var_x4)\n",
        "print(\"var_x5 :\", var_x5)\n",
        "print(\"var_x6 :\", var_x6)\n",
        "print(\"var_x7 :\", var_x7)\n",
        "print(\"var_x8 :\", var_x8)\n",
        "print(\"var_x9 :\", var_x9)"
      ],
      "metadata": {
        "colab": {
          "base_uri": "https://localhost:8080/"
        },
        "id": "b91QEnceMxfP",
        "outputId": "1c22d90b-453b-482a-bd23-6bc7edb3a4c3"
      },
      "execution_count": null,
      "outputs": [
        {
          "output_type": "stream",
          "name": "stdout",
          "text": [
            "var_x1 : 0.23809523809523814\n"
          ]
        }
      ]
    },
    {
      "cell_type": "code",
      "source": [
        "def zScore(value, mean, SD):\n",
        "  numurator = value - mean\n",
        "  z_score = numurator/SD\n",
        "\n",
        "  #if (z_score > 0):\n",
        "    #z_score = 1\n",
        "\n",
        "  #elif(z_score < 0):\n",
        "    #z_score = 0\n",
        "\n",
        "  return z_score\n",
        "\n",
        "sd_x1 = var_x1**(1/2)\n",
        "sd_x2 = var_x2**(1/2)\n",
        "sd_x3 = var_x3**(1/2)\n",
        "sd_x4 = var_x4**(1/2)\n",
        "sd_x5 = var_x5**(1/2)\n",
        "sd_x6 = var_x6**(1/2)\n",
        "sd_x7 = var_x7**(1/2)\n",
        "sd_x8 = var_x8**(1/2)\n",
        "sd_x9 = var_x9**(1/2)\n",
        "\n",
        "\n",
        "Z = [\n",
        "     [zScore(Y[0][0], mean_x1, sd_x1), zScore(Y[0][1], mean_x2, sd_x2), zScore(Y[0][2], mean_x3, sd_x3), zScore(Y[0][3], mean_x4, sd_x4), zScore(Y[0][4], mean_x5, sd_x5), zScore(Y[0][5], mean_x6, sd_x6), zScore(Y[0][6], mean_x7, sd_x7), zScore(Y[0][7], mean_x8, sd_x8), zScore(Y[0][8], mean_x9, sd_x9)],\n",
        "     [zScore(Y[1][0], mean_x1, sd_x1), zScore(Y[1][1], mean_x2, sd_x2), zScore(Y[1][2], mean_x3, sd_x3), zScore(Y[1][3], mean_x4, sd_x4), zScore(Y[1][4], mean_x5, sd_x5), zScore(Y[1][5], mean_x6, sd_x6), zScore(Y[1][6], mean_x7, sd_x7), zScore(Y[1][7], mean_x8, sd_x8), zScore(Y[1][8], mean_x9, sd_x9)],\n",
        "     [zScore(Y[2][0], mean_x1, sd_x1), zScore(Y[2][1], mean_x2, sd_x2), zScore(Y[2][2], mean_x3, sd_x3), zScore(Y[2][3], mean_x4, sd_x4), zScore(Y[2][4], mean_x5, sd_x5), zScore(Y[2][5], mean_x6, sd_x6), zScore(Y[2][6], mean_x7, sd_x7), zScore(Y[2][7], mean_x8, sd_x8), zScore(Y[2][8], mean_x9, sd_x9)],\n",
        "     [zScore(Y[3][0], mean_x1, sd_x1), zScore(Y[3][1], mean_x2, sd_x2), zScore(Y[3][2], mean_x3, sd_x3), zScore(Y[3][3], mean_x4, sd_x4), zScore(Y[3][4], mean_x5, sd_x5), zScore(Y[3][5], mean_x6, sd_x6), zScore(Y[3][6], mean_x7, sd_x7), zScore(Y[3][7], mean_x8, sd_x8), zScore(Y[3][8], mean_x9, sd_x9)],\n",
        "     [zScore(Y[4][0], mean_x1, sd_x1), zScore(Y[4][1], mean_x2, sd_x2), zScore(Y[4][2], mean_x3, sd_x3), zScore(Y[4][3], mean_x4, sd_x4), zScore(Y[4][4], mean_x5, sd_x5), zScore(Y[4][5], mean_x6, sd_x6), zScore(Y[4][6], mean_x7, sd_x7), zScore(Y[4][7], mean_x8, sd_x8), zScore(Y[4][8], mean_x9, sd_x9)],\n",
        "     [zScore(Y[5][0], mean_x1, sd_x1), zScore(Y[5][1], mean_x2, sd_x2), zScore(Y[5][2], mean_x3, sd_x3), zScore(Y[5][3], mean_x4, sd_x4), zScore(Y[5][4], mean_x5, sd_x5), zScore(Y[5][5], mean_x6, sd_x6), zScore(Y[5][6], mean_x7, sd_x7), zScore(Y[5][7], mean_x8, sd_x8), zScore(Y[5][8], mean_x9, sd_x9)],\n",
        "     [zScore(Y[6][0], mean_x1, sd_x1), zScore(Y[6][1], mean_x2, sd_x2), zScore(Y[6][2], mean_x3, sd_x3), zScore(Y[6][3], mean_x4, sd_x4), zScore(Y[6][4], mean_x5, sd_x5), zScore(Y[6][5], mean_x6, sd_x6), zScore(Y[6][6], mean_x7, sd_x7), zScore(Y[6][7], mean_x8, sd_x8), zScore(Y[6][8], mean_x9, sd_x9)]\n",
        "     ]\n",
        "Z"
      ],
      "metadata": {
        "id": "hHb4B5llPEr-",
        "colab": {
          "base_uri": "https://localhost:8080/"
        },
        "outputId": "d67271fa-6283-4462-8724-0b47c0cb50ac"
      },
      "execution_count": null,
      "outputs": [
        {
          "output_type": "execute_result",
          "data": {
            "text/plain": [
              "[[1.4638501094227996,\n",
              "  -0.5855400437691199,\n",
              "  -0.8017837257372732,\n",
              "  1.0690449676496976,\n",
              "  -1.0690449676496974,\n",
              "  1.0690449676496976,\n",
              "  -0.37796447300922714,\n",
              "  -0.37796447300922714,\n",
              "  -0.5855400437691199],\n",
              " [-0.5855400437691198,\n",
              "  1.4638501094228,\n",
              "  -0.8017837257372732,\n",
              "  -0.8017837257372732,\n",
              "  0.8017837257372732,\n",
              "  -0.8017837257372732,\n",
              "  2.267786838055363,\n",
              "  -0.37796447300922714,\n",
              "  -0.5855400437691199],\n",
              " [-0.5855400437691198,\n",
              "  -0.5855400437691199,\n",
              "  1.0690449676496976,\n",
              "  -0.8017837257372732,\n",
              "  0.8017837257372732,\n",
              "  -0.8017837257372732,\n",
              "  -0.37796447300922714,\n",
              "  2.267786838055363,\n",
              "  -0.5855400437691199],\n",
              " [-0.5855400437691198,\n",
              "  -0.5855400437691199,\n",
              "  1.0690449676496976,\n",
              "  -0.8017837257372732,\n",
              "  0.8017837257372732,\n",
              "  -0.8017837257372732,\n",
              "  -0.37796447300922714,\n",
              "  -0.37796447300922714,\n",
              "  1.4638501094228],\n",
              " [1.4638501094227996,\n",
              "  -0.5855400437691199,\n",
              "  -0.8017837257372732,\n",
              "  1.0690449676496976,\n",
              "  -1.0690449676496974,\n",
              "  1.0690449676496976,\n",
              "  -0.37796447300922714,\n",
              "  -0.37796447300922714,\n",
              "  -0.5855400437691199],\n",
              " [-0.5855400437691198,\n",
              "  -0.5855400437691199,\n",
              "  1.0690449676496976,\n",
              "  1.0690449676496976,\n",
              "  -1.0690449676496974,\n",
              "  1.0690449676496976,\n",
              "  -0.37796447300922714,\n",
              "  -0.37796447300922714,\n",
              "  -0.5855400437691199],\n",
              " [-0.5855400437691198,\n",
              "  1.4638501094228,\n",
              "  -0.8017837257372732,\n",
              "  -0.8017837257372732,\n",
              "  0.8017837257372732,\n",
              "  -0.8017837257372732,\n",
              "  -0.37796447300922714,\n",
              "  -0.37796447300922714,\n",
              "  1.4638501094228]]"
            ]
          },
          "metadata": {},
          "execution_count": 46
        }
      ]
    },
    {
      "cell_type": "code",
      "source": [
        "def mean(index):\n",
        "  total = 0\n",
        "  i = 0\n",
        "  for i in range(len(Z)):\n",
        "    total += Z[i][index]\n",
        "\n",
        "  return total/len(Z)\n",
        "\n",
        "mean_z1 = mean(0)\n",
        "mean_z2 = mean(1)\n",
        "mean_z3 = mean(2)\n",
        "mean_z4 = mean(3)\n",
        "mean_z5 = mean(4)\n",
        "mean_z6 = mean(5)\n",
        "mean_z7 = mean(6)\n",
        "mean_z8 = mean(7)\n",
        "mean_z9 = mean(8)\n",
        "\n",
        "print(\"mean_z1 :\", mean_z1)\n",
        "print(\"mean_z2 :\", mean_z2)\n",
        "print(\"mean_z3 :\", mean_z3)\n",
        "print(\"mean_z4 :\", mean_z4)\n",
        "print(\"mean_z5 :\", mean_z5)\n",
        "print(\"mean_z6 :\", mean_z6)\n",
        "print(\"mean_z7 :\", mean_z7)\n",
        "print(\"mean_z8 :\", mean_z8)\n",
        "print(\"mean_z9 :\", mean_z9)"
      ],
      "metadata": {
        "colab": {
          "base_uri": "https://localhost:8080/"
        },
        "id": "olAAqlm4m1qu",
        "outputId": "77fd4bdf-410b-46fb-ddba-78219479741f"
      },
      "execution_count": null,
      "outputs": [
        {
          "output_type": "stream",
          "name": "stdout",
          "text": [
            "mean_z1 : 0.0\n",
            "mean_z2 : 6.344131569286608e-17\n",
            "mean_z3 : 0.0\n",
            "mean_z4 : 1.586032892321652e-17\n",
            "mean_z5 : 1.1102230246251565e-16\n",
            "mean_z6 : 1.586032892321652e-17\n",
            "mean_z7 : 4.7580986769649563e-17\n",
            "mean_z8 : 4.7580986769649563e-17\n",
            "mean_z9 : 3.172065784643304e-17\n"
          ]
        }
      ]
    },
    {
      "cell_type": "code",
      "source": [
        "\n",
        "\n",
        " #Z = [[1.4638501094227996,\n",
        "  #-0.5855400437691199,\n",
        "  #-0.8017837257372732,\n",
        "  #1.0690449676496976,\n",
        "  #-1.0690449676496974,\n",
        "  #1.0690449676496976,\n",
        "  #-0.37796447300922714,\n",
        "  #-0.37796447300922714,\n",
        "  #-0.5855400437691199],\n",
        " #[-0.5855400437691198,\n",
        "  #1.4638501094228,\n",
        "  #-0.8017837257372732,\n",
        "  #-0.8017837257372732,\n",
        "  #0.8017837257372732,\n",
        "  #-0.8017837257372732,\n",
        "  #2.267786838055363,\n",
        "  #-0.37796447300922714,\n",
        "  #-0.5855400437691199],\n",
        " #[-0.5855400437691198,\n",
        "  #-0.5855400437691199,\n",
        "  #1.0690449676496976,\n",
        "  #-0.8017837257372732,\n",
        "  #0.8017837257372732,\n",
        "  #-0.8017837257372732,\n",
        "  #-0.37796447300922714,\n",
        "  #2.267786838055363,\n",
        "  #-0.5855400437691199],\n",
        " #[-0.5855400437691198,\n",
        " # -0.5855400437691199,\n",
        "  #1.0690449676496976,\n",
        "  #-0.8017837257372732,\n",
        "  #0.8017837257372732,\n",
        "  #-0.8017837257372732,\n",
        "  #-0.37796447300922714,\n",
        "  #-0.37796447300922714,\n",
        "  #1.4638501094228],\n",
        " #[1.4638501094227996,\n",
        " # -0.5855400437691199,\n",
        "  #-0.8017837257372732,\n",
        "  #1.0690449676496976,\n",
        "  #-1.0690449676496974,\n",
        "  #1.0690449676496976,\n",
        "  #-0.37796447300922714,\n",
        "  #-0.37796447300922714,\n",
        "  #-0.5855400437691199],\n",
        " #[-0.5855400437691198,\n",
        "  #-0.5855400437691199,\n",
        "  #1.0690449676496976,\n",
        "  #1.0690449676496976,\n",
        "  #-1.0690449676496974,\n",
        "  #1.0690449676496976,\n",
        "  #-0.37796447300922714,\n",
        "  #-0.37796447300922714,\n",
        "  #-0.5855400437691199],\n",
        " #[-0.5855400437691198,\n",
        "  #1.4638501094228,\n",
        "  #-0.8017837257372732,\n",
        "  #-0.8017837257372732,\n",
        "  #0.8017837257372732,\n",
        "  #-0.8017837257372732,\n",
        "  #-0.37796447300922714,\n",
        "  #-0.37796447300922714,\n",
        "  #1.4638501094228]]\n",
        "\n",
        "#euclidian distance between z2 and z7\n",
        "eZ = ((Z[1][0]-Z[6][0])**2+(Z[1][1]-Z[6][1])**2+(Z[1][2]-Z[6][2])**2+(Z[1][3]-Z[6][3])**2+(Z[1][4]-Z[6][4])**2+(Z[1][5]-Z[6][5])**2+(Z[1][6]-Z[6][6])**2+(Z[1][7]-Z[6][7])**2+(Z[1][8]-Z[6][8])**2)**(1/2)\n",
        "print(eZ)"
      ],
      "metadata": {
        "colab": {
          "base_uri": "https://localhost:8080/"
        },
        "id": "d8GHBf2wo_TN",
        "outputId": "b97250f1-31e5-4ebc-eb70-19d1de4b4bfe"
      },
      "execution_count": null,
      "outputs": [
        {
          "output_type": "stream",
          "name": "stdout",
          "text": [
            "3.3466401061363023\n"
          ]
        }
      ]
    }
  ]
}