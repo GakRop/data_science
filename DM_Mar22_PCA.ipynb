{
  "nbformat": 4,
  "nbformat_minor": 0,
  "metadata": {
    "colab": {
      "provenance": []
    },
    "kernelspec": {
      "name": "python3",
      "display_name": "Python 3"
    },
    "language_info": {
      "name": "python"
    }
  },
  "cells": [
    {
      "cell_type": "code",
      "execution_count": null,
      "metadata": {
        "id": "IUrMWOvGefzv"
      },
      "outputs": [],
      "source": [
        "from sklearn.datasets import load_linnerud\n",
        "linnerud_data = load_linnerud()\n",
        "        \n",
        "D = linnerud_data['data']"
      ]
    },
    {
      "cell_type": "code",
      "source": [
        "linnerud_data['feature_names']"
      ],
      "metadata": {
        "colab": {
          "base_uri": "https://localhost:8080/"
        },
        "id": "MTDV4zJsg_pm",
        "outputId": "29c79cc5-d521-43b9-e26b-26f62974bb43"
      },
      "execution_count": null,
      "outputs": [
        {
          "output_type": "execute_result",
          "data": {
            "text/plain": [
              "['Chins', 'Situps', 'Jumps']"
            ]
          },
          "metadata": {},
          "execution_count": 2
        }
      ]
    },
    {
      "cell_type": "code",
      "source": [
        "D = linnerud_data['data']\n",
        "D"
      ],
      "metadata": {
        "colab": {
          "base_uri": "https://localhost:8080/"
        },
        "id": "zc_6sOKQhBMK",
        "outputId": "8df9d4b9-1d83-4ec9-e6b3-d707babb0115"
      },
      "execution_count": null,
      "outputs": [
        {
          "output_type": "execute_result",
          "data": {
            "text/plain": [
              "array([[  5., 162.,  60.],\n",
              "       [  2., 110.,  60.],\n",
              "       [ 12., 101., 101.],\n",
              "       [ 12., 105.,  37.],\n",
              "       [ 13., 155.,  58.],\n",
              "       [  4., 101.,  42.],\n",
              "       [  8., 101.,  38.],\n",
              "       [  6., 125.,  40.],\n",
              "       [ 15., 200.,  40.],\n",
              "       [ 17., 251., 250.],\n",
              "       [ 17., 120.,  38.],\n",
              "       [ 13., 210., 115.],\n",
              "       [ 14., 215., 105.],\n",
              "       [  1.,  50.,  50.],\n",
              "       [  6.,  70.,  31.],\n",
              "       [ 12., 210., 120.],\n",
              "       [  4.,  60.,  25.],\n",
              "       [ 11., 230.,  80.],\n",
              "       [ 15., 225.,  73.],\n",
              "       [  2., 110.,  43.]])"
            ]
          },
          "metadata": {},
          "execution_count": 3
        }
      ]
    },
    {
      "cell_type": "code",
      "source": [
        "import numpy as np\n",
        "np.cov(D.T, ddof=1)"
      ],
      "metadata": {
        "colab": {
          "base_uri": "https://localhost:8080/"
        },
        "id": "kp7xlZ9vhUG_",
        "outputId": "5d056b7f-514f-41db-96f3-20851fb260d0"
      },
      "execution_count": null,
      "outputs": [
        {
          "output_type": "execute_result",
          "data": {
            "text/plain": [
              "array([[  27.94473684,  230.10789474,  134.38421053],\n",
              "       [ 230.10789474, 3914.57631579, 2146.98421053],\n",
              "       [ 134.38421053, 2146.98421053, 2629.37894737]])"
            ]
          },
          "metadata": {},
          "execution_count": 4
        }
      ]
    },
    {
      "cell_type": "code",
      "source": [
        "from sklearn.feature_selection import VarianceThreshold\n",
        "\n",
        "threshold = 100\n",
        "feature_selector = VarianceThreshold(threshold=threshold)\n",
        "feature_selector.fit_transform(D)"
      ],
      "metadata": {
        "colab": {
          "base_uri": "https://localhost:8080/"
        },
        "id": "7Vuc5q4cioUt",
        "outputId": "6f2475de-2417-4025-b3c0-2fbfbd6450be"
      },
      "execution_count": null,
      "outputs": [
        {
          "output_type": "execute_result",
          "data": {
            "text/plain": [
              "array([[162.,  60.],\n",
              "       [110.,  60.],\n",
              "       [101., 101.],\n",
              "       [105.,  37.],\n",
              "       [155.,  58.],\n",
              "       [101.,  42.],\n",
              "       [101.,  38.],\n",
              "       [125.,  40.],\n",
              "       [200.,  40.],\n",
              "       [251., 250.],\n",
              "       [120.,  38.],\n",
              "       [210., 115.],\n",
              "       [215., 105.],\n",
              "       [ 50.,  50.],\n",
              "       [ 70.,  31.],\n",
              "       [210., 120.],\n",
              "       [ 60.,  25.],\n",
              "       [230.,  80.],\n",
              "       [225.,  73.],\n",
              "       [110.,  43.]])"
            ]
          },
          "metadata": {},
          "execution_count": 5
        }
      ]
    },
    {
      "cell_type": "code",
      "source": [
        "from sklearn.preprocessing import MinMaxScaler\n",
        "D_normalized = MinMaxScaler().fit_transform(D)\n",
        "D_normalized"
      ],
      "metadata": {
        "colab": {
          "base_uri": "https://localhost:8080/"
        },
        "id": "m4bxgFWEi2sB",
        "outputId": "7f393c18-e125-4507-b9de-12019bf5ae8c"
      },
      "execution_count": null,
      "outputs": [
        {
          "output_type": "execute_result",
          "data": {
            "text/plain": [
              "array([[0.25      , 0.55721393, 0.15555556],\n",
              "       [0.0625    , 0.29850746, 0.15555556],\n",
              "       [0.6875    , 0.25373134, 0.33777778],\n",
              "       [0.6875    , 0.27363184, 0.05333333],\n",
              "       [0.75      , 0.52238806, 0.14666667],\n",
              "       [0.1875    , 0.25373134, 0.07555556],\n",
              "       [0.4375    , 0.25373134, 0.05777778],\n",
              "       [0.3125    , 0.37313433, 0.06666667],\n",
              "       [0.875     , 0.74626866, 0.06666667],\n",
              "       [1.        , 1.        , 1.        ],\n",
              "       [1.        , 0.34825871, 0.05777778],\n",
              "       [0.75      , 0.7960199 , 0.4       ],\n",
              "       [0.8125    , 0.82089552, 0.35555556],\n",
              "       [0.        , 0.        , 0.11111111],\n",
              "       [0.3125    , 0.09950249, 0.02666667],\n",
              "       [0.6875    , 0.7960199 , 0.42222222],\n",
              "       [0.1875    , 0.04975124, 0.        ],\n",
              "       [0.625     , 0.89552239, 0.24444444],\n",
              "       [0.875     , 0.87064677, 0.21333333],\n",
              "       [0.0625    , 0.29850746, 0.08      ]])"
            ]
          },
          "metadata": {},
          "execution_count": 6
        }
      ]
    },
    {
      "cell_type": "code",
      "source": [
        "import numpy as np\n",
        "np.cov(D_normalized.T, ddof=1)"
      ],
      "metadata": {
        "colab": {
          "base_uri": "https://localhost:8080/"
        },
        "id": "SAXiyA0aj2cb",
        "outputId": "1e38be76-e8f9-45bb-8733-63f4bb74846b"
      },
      "execution_count": null,
      "outputs": [
        {
          "output_type": "execute_result",
          "data": {
            "text/plain": [
              "array([[0.10915913, 0.07155096, 0.03732895],\n",
              "       [0.07155096, 0.09689306, 0.04747339],\n",
              "       [0.03732895, 0.04747339, 0.05193835]])"
            ]
          },
          "metadata": {},
          "execution_count": 7
        }
      ]
    },
    {
      "cell_type": "code",
      "source": [
        "threshold = .06\n",
        "feature_selector = VarianceThreshold(threshold=threshold)\n",
        "feature_selector.fit_transform(D_normalized)"
      ],
      "metadata": {
        "colab": {
          "base_uri": "https://localhost:8080/"
        },
        "id": "y7kLu8zIj7fi",
        "outputId": "9f730f9b-5a8e-426e-9190-53afed90a2d9"
      },
      "execution_count": null,
      "outputs": [
        {
          "output_type": "execute_result",
          "data": {
            "text/plain": [
              "array([[0.25      , 0.55721393],\n",
              "       [0.0625    , 0.29850746],\n",
              "       [0.6875    , 0.25373134],\n",
              "       [0.6875    , 0.27363184],\n",
              "       [0.75      , 0.52238806],\n",
              "       [0.1875    , 0.25373134],\n",
              "       [0.4375    , 0.25373134],\n",
              "       [0.3125    , 0.37313433],\n",
              "       [0.875     , 0.74626866],\n",
              "       [1.        , 1.        ],\n",
              "       [1.        , 0.34825871],\n",
              "       [0.75      , 0.7960199 ],\n",
              "       [0.8125    , 0.82089552],\n",
              "       [0.        , 0.        ],\n",
              "       [0.3125    , 0.09950249],\n",
              "       [0.6875    , 0.7960199 ],\n",
              "       [0.1875    , 0.04975124],\n",
              "       [0.625     , 0.89552239],\n",
              "       [0.875     , 0.87064677],\n",
              "       [0.0625    , 0.29850746]])"
            ]
          },
          "metadata": {},
          "execution_count": 8
        }
      ]
    },
    {
      "cell_type": "code",
      "source": [
        "from sklearn.datasets import load_iris\n",
        "D_iris = load_iris()['data']"
      ],
      "metadata": {
        "id": "aTb8kIu6kXrO"
      },
      "execution_count": null,
      "outputs": []
    },
    {
      "cell_type": "code",
      "source": [
        "D_iris.shape"
      ],
      "metadata": {
        "colab": {
          "base_uri": "https://localhost:8080/"
        },
        "id": "GXVYQa4AlWRb",
        "outputId": "5aa6feee-17dd-445c-bb1a-90934dc5c963"
      },
      "execution_count": null,
      "outputs": [
        {
          "output_type": "execute_result",
          "data": {
            "text/plain": [
              "(150, 4)"
            ]
          },
          "metadata": {},
          "execution_count": 10
        }
      ]
    },
    {
      "cell_type": "code",
      "source": [
        "D = D_iris[:, 1:3]"
      ],
      "metadata": {
        "id": "HLQ7okvhlPDg"
      },
      "execution_count": null,
      "outputs": []
    },
    {
      "cell_type": "code",
      "source": [
        "import matplotlib.pyplot as plt\n",
        "plt.scatter(D[:,0], D[:,1])\n",
        "plt.xlabel('X1')\n",
        "plt.ylabel('X2')\n",
        "plt.title('Scatter plot of data matrix D_iris')"
      ],
      "metadata": {
        "colab": {
          "base_uri": "https://localhost:8080/",
          "height": 313
        },
        "id": "TVCloXLUlVCb",
        "outputId": "c23cfa20-9cb8-4c42-bee0-869f2ed2e7a4"
      },
      "execution_count": null,
      "outputs": [
        {
          "output_type": "execute_result",
          "data": {
            "text/plain": [
              "Text(0.5, 1.0, 'Scatter plot of data matrix D_iris')"
            ]
          },
          "metadata": {},
          "execution_count": 12
        },
        {
          "output_type": "display_data",
          "data": {
            "text/plain": [
              "<Figure size 432x288 with 1 Axes>"
            ],
            "image/png": "[encoded data removed]"
          },
          "metadata": {
            "needs_background": "light"
          }
        }
      ]
    },
    {
      "cell_type": "code",
      "source": [
        "multi_d_mean = np.mean(D, axis=0)\n",
        "multi_d_mean\n",
        "\n",
        "#take the multidimensional mean of the original dataset"
      ],
      "metadata": {
        "colab": {
          "base_uri": "https://localhost:8080/"
        },
        "id": "B_2MAgwMmW7e",
        "outputId": "e669ba41-2541-40f5-8a8a-1256fe5b840a"
      },
      "execution_count": null,
      "outputs": [
        {
          "output_type": "execute_result",
          "data": {
            "text/plain": [
              "array([3.05733333, 3.758     ])"
            ]
          },
          "metadata": {},
          "execution_count": 13
        }
      ]
    },
    {
      "cell_type": "code",
      "source": [
        "centered_data = D - multi_d_mean\n",
        "centered_data\n",
        "\n",
        "#substract the mean from the original data to get the mean-centered data set"
      ],
      "metadata": {
        "id": "l9MkZC96mbwQ"
      },
      "execution_count": null,
      "outputs": []
    },
    {
      "cell_type": "code",
      "source": [
        "fig = plt.figure()\n",
        "ax = fig.add_subplot(111)\n",
        "ax.scatter(D[:,0], D[:,1], s=10, c='b', marker='s', label='original data')\n",
        "ax.scatter(centered_data[:,0], centered_data[:,1], s=10, c='r', marker='x', label='centered data')\n",
        "plt.xlabel('X1')\n",
        "plt.ylabel('X2')\n",
        "plt.legend(loc='upper left')\n",
        "plt.title('Scatter plot of centered and original data')"
      ],
      "metadata": {
        "colab": {
          "base_uri": "https://localhost:8080/",
          "height": 313
        },
        "id": "0OzgfAw1miNe",
        "outputId": "ed41190e-36ec-4024-a08c-87259b44b6b6"
      },
      "execution_count": null,
      "outputs": [
        {
          "output_type": "execute_result",
          "data": {
            "text/plain": [
              "Text(0.5, 1.0, 'Scatter plot of centered and original data')"
            ]
          },
          "metadata": {},
          "execution_count": 15
        },
        {
          "output_type": "display_data",
          "data": {
            "text/plain": [
              "<Figure size 432x288 with 1 Axes>"
            ],
            "image/png": "[encoded data removed]"
          },
          "metadata": {
            "needs_background": "light"
          }
        }
      ]
    },
    {
      "cell_type": "code",
      "source": [
        "np.mean(centered_data, axis = 0)\n",
        "\n",
        "#checked the mean of the mean-centered dataset\n",
        "#it is not exactly 0 but very close to 0"
      ],
      "metadata": {
        "colab": {
          "base_uri": "https://localhost:8080/"
        },
        "id": "HtgOiF3hnAcw",
        "outputId": "1b0bb36d-9e15-4a1e-aef9-3decb6143577"
      },
      "execution_count": null,
      "outputs": [
        {
          "output_type": "execute_result",
          "data": {
            "text/plain": [
              "array([-7.60872846e-16, -2.55203266e-15])"
            ]
          },
          "metadata": {},
          "execution_count": 17
        }
      ]
    },
    {
      "cell_type": "code",
      "source": [
        "A = np.array([[2,1],[1,-1]])\n",
        "A\n",
        "\n",
        "#define the eigenvector"
      ],
      "metadata": {
        "colab": {
          "base_uri": "https://localhost:8080/"
        },
        "id": "bT9ONQgAnGe0",
        "outputId": "041d61f3-93b0-4a82-e0bd-6e2fc3d3e35d"
      },
      "execution_count": null,
      "outputs": [
        {
          "output_type": "execute_result",
          "data": {
            "text/plain": [
              "array([[ 2,  1],\n",
              "       [ 1, -1]])"
            ]
          },
          "metadata": {},
          "execution_count": 18
        }
      ]
    },
    {
      "cell_type": "code",
      "source": [
        "linearly_transformed_data = A.dot(D.T)\n",
        "linearly_transformed_data.T\n",
        "\n",
        "#rotate the entire mean-centered dataset according to the eigenvector, A"
      ],
      "metadata": {
        "id": "Wpj99VAMnkpb"
      },
      "execution_count": null,
      "outputs": []
    },
    {
      "cell_type": "code",
      "source": [
        "fig = plt.figure()\n",
        "ax = fig.add_subplot(111)\n",
        "ax.scatter(linearly_transformed_data[0,:], linearly_transformed_data[1,:], s=10, c='r', marker='x', label='linearly transformed data')\n",
        "ax.scatter(D[:,0], D[:,1], s=10, c='b', marker='s', label='original data')\n",
        "plt.xlabel('X1')\n",
        "plt.ylabel('X2')\n",
        "plt.legend(loc='lower right')\n",
        "plt.title('Scatter plot of original data and linearly transformed data')\n",
        "\n",
        "#this is how the rotated or transformed mean-centered data set look like on the graph"
      ],
      "metadata": {
        "colab": {
          "base_uri": "https://localhost:8080/",
          "height": 333
        },
        "id": "_Uu0krtLoIN4",
        "outputId": "9b6ad7f8-ef29-43ef-8080-bdeb04e6d6f8"
      },
      "execution_count": null,
      "outputs": [
        {
          "output_type": "execute_result",
          "data": {
            "text/plain": [
              "Text(0.5, 1.0, 'Scatter plot of original data and linearly transformed data')"
            ]
          },
          "metadata": {},
          "execution_count": 20
        },
        {
          "output_type": "display_data",
          "data": {
            "text/plain": [
              "<Figure size 432x288 with 1 Axes>"
            ],
            "image/png": "[encoded data removed]"
          },
          "metadata": {
            "needs_background": "light"
          }
        }
      ]
    },
    {
      "cell_type": "code",
      "source": [
        "Sigma = np.cov(D.T, ddof=1)\n",
        "Sigma\n",
        "\n",
        "#get the covariance metrix of the mean-centered data"
      ],
      "metadata": {
        "colab": {
          "base_uri": "https://localhost:8080/"
        },
        "id": "ZpvlNi6ToccH",
        "outputId": "ae086685-915b-4df8-8b81-4cf4480094d0"
      },
      "execution_count": null,
      "outputs": [
        {
          "output_type": "execute_result",
          "data": {
            "text/plain": [
              "array([[ 0.18997942, -0.32965638],\n",
              "       [-0.32965638,  3.11627785]])"
            ]
          },
          "metadata": {},
          "execution_count": 21
        }
      ]
    },
    {
      "cell_type": "code",
      "source": [
        "n = D.shape[0]\n",
        "1/(n-1)*np.dot(centered_data.T, centered_data)\n",
        "\n",
        "#another way to take the covariance matrix of the mean-centered data"
      ],
      "metadata": {
        "colab": {
          "base_uri": "https://localhost:8080/"
        },
        "id": "O8m-uoY7oyMZ",
        "outputId": "aa7f587b-8f4c-4b5c-93ba-9ed3b88e0d9d"
      },
      "execution_count": null,
      "outputs": [
        {
          "output_type": "execute_result",
          "data": {
            "text/plain": [
              "array([[ 0.18997942, -0.32965638],\n",
              "       [-0.32965638,  3.11627785]])"
            ]
          },
          "metadata": {},
          "execution_count": 22
        }
      ]
    },
    {
      "cell_type": "code",
      "source": [
        "import numpy.linalg as LA\n",
        "evalues, evectors = LA.eig(Sigma)\n",
        "\n",
        "#get the eigenvalues and eigenvectors"
      ],
      "metadata": {
        "id": "ZwTXt89Jp-lV"
      },
      "execution_count": null,
      "outputs": []
    },
    {
      "cell_type": "code",
      "source": [
        "idx = evalues.argsort()[::-1]\n",
        "evalues = evalues[idx]\n",
        "evectors = evectors[:, idx]\n",
        "\n",
        "#reorder teh eigenvalues and eigenvectors arrays from largest value to the smallest value"
      ],
      "metadata": {
        "id": "5mCCZvJrqBWx"
      },
      "execution_count": null,
      "outputs": []
    },
    {
      "cell_type": "code",
      "source": [
        "total_var = sum(np.diag(Sigma))\n",
        "total_var\n",
        "\n",
        "#Recall that the sum of the eigenvalues is the total variance of the dataset. That is"
      ],
      "metadata": {
        "colab": {
          "base_uri": "https://localhost:8080/"
        },
        "id": "6Yon1mY6qVXz",
        "outputId": "51ea50c8-4c07-4f06-e172-7d02221d5503"
      },
      "execution_count": null,
      "outputs": [
        {
          "output_type": "execute_result",
          "data": {
            "text/plain": [
              "3.3062572706935125"
            ]
          },
          "metadata": {},
          "execution_count": 25
        }
      ]
    },
    {
      "cell_type": "code",
      "source": [
        "evalues[0]/total_var\n",
        "\n",
        "#And, we can find the proportion of the total variance attributred to each eigenvector. \n",
        "#For example, in just the direction of the largest eigenvalues, \n",
        "#we capture over 95% of the total variance:\n",
        "#the eigenvalue is smaller than the r value, 1, here. And r is smallest"
      ],
      "metadata": {
        "colab": {
          "base_uri": "https://localhost:8080/"
        },
        "id": "ia2Ek_nuqp58",
        "outputId": "28c414f0-cf8e-4c5b-8146-8faa44af5e13"
      },
      "execution_count": null,
      "outputs": [
        {
          "output_type": "execute_result",
          "data": {
            "text/plain": [
              "0.9536326686835205"
            ]
          },
          "metadata": {},
          "execution_count": 26
        }
      ]
    },
    {
      "cell_type": "code",
      "source": [
        "coords_along_eig0 = evectors[:,0].T.dot(centered_data.T)\n",
        "coords_along_eig0\n",
        "coords_along_eig0.shape\n",
        "\n",
        "#multiply the eigenvector by the data\n",
        "#and check the dimensionality"
      ],
      "metadata": {
        "colab": {
          "base_uri": "https://localhost:8080/"
        },
        "id": "tI55Ml0Brs2R",
        "outputId": "f6f578a3-d467-4f3e-d866-700f3148d4ce"
      },
      "execution_count": null,
      "outputs": [
        {
          "output_type": "execute_result",
          "data": {
            "text/plain": [
              "(150,)"
            ]
          },
          "metadata": {},
          "execution_count": 30
        }
      ]
    },
    {
      "cell_type": "code",
      "source": [
        "coords_along_eig0 = evectors[:,0].T.dot(centered_data.T)\n",
        "\n",
        "projected_along_eig0 = np.zeros((n,2))\n",
        "for i in range(len(coords_along_eig0)):\n",
        "    projected_along_eig0[i,:] = coords_along_eig0[i]*evectors[:,0]\n",
        "\n",
        "pjdev0 = projected_along_eig0\n",
        "# plot of centered data and its projection onto the first principial component (evec corresponding to largest eval)\n",
        "fig = plt.figure()\n",
        "ax = fig.add_subplot(111)\n",
        "ax.scatter(centered_data[:,0], centered_data[:,1], s=10, c='b', marker='s', label='centered data')\n",
        "ax.scatter(pjdev0[:,0], pjdev0[:,1], s=10, c='r', marker='x', label='1-dimensional pca-transformed data')\n",
        "plt.xlabel('X1')\n",
        "plt.ylabel('X2')\n",
        "plt.xlim(-3,3)\n",
        "plt.ylim(-3,3)\n",
        "plt.legend(loc='upper left')\n",
        "plt.title('Scatter plot of centered and PCA-transformed data')"
      ],
      "metadata": {
        "colab": {
          "base_uri": "https://localhost:8080/",
          "height": 313
        },
        "id": "oQZvu4ECsu5f",
        "outputId": "381fc1e8-5f04-41f7-d458-540dc7e0196c"
      },
      "execution_count": null,
      "outputs": [
        {
          "output_type": "execute_result",
          "data": {
            "text/plain": [
              "Text(0.5, 1.0, 'Scatter plot of centered and PCA-transformed data')"
            ]
          },
          "metadata": {},
          "execution_count": 31
        },
        {
          "output_type": "display_data",
          "data": {
            "text/plain": [
              "<Figure size 432x288 with 1 Axes>"
            ],
            "image/png": "[encoded data removed]"
          },
          "metadata": {
            "needs_background": "light"
          }
        }
      ]
    },
    {
      "cell_type": "code",
      "source": [
        "coords_along_eig1 = evectors[:,1].T.dot(centered_data.T)\n",
        "\n",
        "projected_along_eig1 = np.zeros((n,2))\n",
        "for i in range(len(coords_along_eig1)):\n",
        "    projected_along_eig1[i,:] = coords_along_eig1[i]*evectors[:,1]\n",
        "\n",
        "pjdev1 = projected_along_eig1\n",
        "# plot of centered data and its projection onto the first principial component (evec corresponding to largest eval)\n",
        "fig = plt.figure()\n",
        "ax = fig.add_subplot(111)\n",
        "ax.scatter(centered_data[:,0], centered_data[:,1], s=10, c='b', marker='s', label='centered data')\n",
        "ax.scatter(pjdev0[:,0], pjdev0[:,1], s=10, c='r', marker='x', label='1-dimensional pca-transformed data')\n",
        "ax.scatter(pjdev1[:,0], pjdev1[:,1], s=10, c='c', marker='x', label='1-dimensional transformed data onto evec 1')\n",
        "plt.xlabel('X1')\n",
        "plt.ylabel('X2')\n",
        "plt.xlim(-3,3)\n",
        "plt.ylim(-3,3)\n",
        "plt.legend(loc='upper left')\n",
        "plt.title('Scatter plot of centered and PCA-transformed data')"
      ],
      "metadata": {
        "colab": {
          "base_uri": "https://localhost:8080/",
          "height": 313
        },
        "id": "Kth049jwxIRI",
        "outputId": "c0320150-265d-428d-bfc3-096f0b2580bf"
      },
      "execution_count": null,
      "outputs": [
        {
          "output_type": "execute_result",
          "data": {
            "text/plain": [
              "Text(0.5, 1.0, 'Scatter plot of centered and PCA-transformed data')"
            ]
          },
          "metadata": {},
          "execution_count": 32
        },
        {
          "output_type": "display_data",
          "data": {
            "text/plain": [
              "<Figure size 432x288 with 1 Axes>"
            ],
            "image/png": "[encoded data removed]"
          },
          "metadata": {
            "needs_background": "light"
          }
        }
      ]
    },
    {
      "cell_type": "code",
      "source": [
        "coords_in_evec_axes = evectors.T.dot(centered_data.T)\n",
        "coords_in_evec_axes.shape"
      ],
      "metadata": {
        "colab": {
          "base_uri": "https://localhost:8080/"
        },
        "id": "fKnH0PLZ2Ksk",
        "outputId": "ee17b430-eb2d-45fd-d92d-35338bec57b2"
      },
      "execution_count": null,
      "outputs": [
        {
          "output_type": "execute_result",
          "data": {
            "text/plain": [
              "(2, 150)"
            ]
          },
          "metadata": {},
          "execution_count": 33
        }
      ]
    },
    {
      "cell_type": "code",
      "source": [
        "plt.scatter(coords_in_evec_axes[0,:], coords_in_evec_axes[1,:])\n",
        "plt.xlabel('PC0 (evec corresponding to largest eval of Sigma) ')\n",
        "plt.ylabel('PC1 (evec corresponding to second largest eval of Sigma) ')\n",
        "plt.xlim(-3,3)\n",
        "plt.ylim(-3,3)\n",
        "plt.title('scatter plot of transformed data with eigenvectors as axes')\n"
      ],
      "metadata": {
        "colab": {
          "base_uri": "https://localhost:8080/",
          "height": 361
        },
        "id": "E3fHH3bU3tVf",
        "outputId": "f1c1264b-8622-4aec-9b8b-4db74900ddb4"
      },
      "execution_count": null,
      "outputs": [
        {
          "output_type": "execute_result",
          "data": {
            "text/plain": [
              "Text(0.5, 1.0, 'scatter plot of transformed data with eigenvectors as axes')"
            ]
          },
          "metadata": {},
          "execution_count": 34
        },
        {
          "output_type": "display_data",
          "data": {
            "text/plain": [
              "<Figure size 432x288 with 1 Axes>"
            ],
            "image/png": "[encoded data removed]"
          },
          "metadata": {
            "needs_background": "light"
          }
        }
      ]
    },
    {
      "cell_type": "code",
      "source": [
        "from sklearn.decomposition import PCA\n",
        "pca = PCA(n_components=2)\n",
        "pca_transformed_D = pca.fit_transform(D)\n",
        "\n",
        "#initiating the PCA dimensionality reduction\n",
        "#we can define the dimensionality we want by n_components=2"
      ],
      "metadata": {
        "id": "Ob8fmFAT4t3y"
      },
      "execution_count": null,
      "outputs": []
    },
    {
      "cell_type": "code",
      "source": [
        "pca.explained_variance_ratio_\n",
        "\n",
        "#shows how much of the information \n",
        "#is explained in the reduced demension"
      ],
      "metadata": {
        "colab": {
          "base_uri": "https://localhost:8080/"
        },
        "id": "8TrFxw-C46wK",
        "outputId": "8c2ce401-b053-41e0-d825-a41c9121cf3f"
      },
      "execution_count": null,
      "outputs": [
        {
          "output_type": "execute_result",
          "data": {
            "text/plain": [
              "array([0.95363267, 0.04636733])"
            ]
          },
          "metadata": {},
          "execution_count": 36
        }
      ]
    },
    {
      "cell_type": "code",
      "source": [
        "pca.components_ \n",
        "\n",
        "#this is the eigenvector"
      ],
      "metadata": {
        "colab": {
          "base_uri": "https://localhost:8080/"
        },
        "id": "ZUf8Igzw6edI",
        "outputId": "47174506-103c-4ec8-9f3a-cb13db90506d"
      },
      "execution_count": null,
      "outputs": [
        {
          "output_type": "execute_result",
          "data": {
            "text/plain": [
              "array([[-0.11057628,  0.99386764],\n",
              "       [ 0.99386764,  0.11057628]])"
            ]
          },
          "metadata": {},
          "execution_count": 37
        }
      ]
    },
    {
      "cell_type": "code",
      "source": [
        "evectors\n",
        "\n",
        "#the samething as pca.components_"
      ],
      "metadata": {
        "colab": {
          "base_uri": "https://localhost:8080/"
        },
        "id": "BxQZESBl7SNH",
        "outputId": "d107ded1-251a-4fbf-b46f-846ef4b2aeca"
      },
      "execution_count": null,
      "outputs": [
        {
          "output_type": "execute_result",
          "data": {
            "text/plain": [
              "array([[ 0.11057628, -0.99386764],\n",
              "       [-0.99386764, -0.11057628]])"
            ]
          },
          "metadata": {},
          "execution_count": 38
        }
      ]
    },
    {
      "cell_type": "code",
      "source": [
        "fig = plt.figure()\n",
        "ax = fig.add_subplot(111)\n",
        "ax.scatter(coords_in_evec_axes[0,:], coords_in_evec_axes[1,:], s=10, c='b', marker='s', label='transformed data using pca')\n",
        "ax.scatter(pca_transformed_D[:,0], pca_transformed_D[:,1], s=10, c='r', marker='x', label='transformed data using sklearn PCA')\n",
        "plt.xlabel('PC1')\n",
        "plt.ylabel('PC2')\n",
        "plt.xlim(-3,3)\n",
        "plt.ylim(-3,3)\n",
        "plt.legend(loc='lower right')\n",
        "plt.title('Scatter plot of centered and sklearn PCA-transformed data using 2 principal components')\n",
        "plt.savefig('centered_and_pca_transformed_data_2components.png')"
      ],
      "metadata": {
        "colab": {
          "base_uri": "https://localhost:8080/",
          "height": 295
        },
        "id": "TuOi2YnY7cyI",
        "outputId": "6b6f054e-4550-4907-d761-5d47622f74d5"
      },
      "execution_count": null,
      "outputs": [
        {
          "output_type": "display_data",
          "data": {
            "text/plain": [
              "<Figure size 432x288 with 1 Axes>"
            ],
            "image/png": "[encoded data removed]"
          },
          "metadata": {
            "needs_background": "light"
          }
        }
      ]
    },
    {
      "cell_type": "code",
      "source": [
        "D_iris = load_iris()['data']\n",
        "pca = PCA(n_components=2)\n",
        "pca_transformed_D_iris = pca.fit_transform(D_iris)\n",
        "pca.explained_variance_ratio_"
      ],
      "metadata": {
        "colab": {
          "base_uri": "https://localhost:8080/"
        },
        "id": "TsCA6mwl9pM2",
        "outputId": "5a589562-e6fd-4dd0-b25a-e9e0e3eb5058"
      },
      "execution_count": null,
      "outputs": [
        {
          "output_type": "execute_result",
          "data": {
            "text/plain": [
              "array([0.92461872, 0.05306648])"
            ]
          },
          "metadata": {},
          "execution_count": 40
        }
      ]
    },
    {
      "cell_type": "code",
      "source": [
        "D_iris.shape"
      ],
      "metadata": {
        "colab": {
          "base_uri": "https://localhost:8080/"
        },
        "id": "ydtmcTOG9sX1",
        "outputId": "bf65fbe0-0f30-4d81-dcfc-c7054833ce1f"
      },
      "execution_count": null,
      "outputs": [
        {
          "output_type": "execute_result",
          "data": {
            "text/plain": [
              "(150, 4)"
            ]
          },
          "metadata": {},
          "execution_count": 41
        }
      ]
    },
    {
      "cell_type": "code",
      "source": [
        "pca_transformed_D_iris.shape"
      ],
      "metadata": {
        "id": "Ixk5290L9vRa",
        "outputId": "c7e2f420-f86e-4cb7-80a2-4b6ee52cd60b",
        "colab": {
          "base_uri": "https://localhost:8080/"
        }
      },
      "execution_count": null,
      "outputs": [
        {
          "output_type": "execute_result",
          "data": {
            "text/plain": [
              "(150, 2)"
            ]
          },
          "metadata": {},
          "execution_count": 42
        }
      ]
    },
    {
      "cell_type": "code",
      "source": [
        "plt.scatter(pca_transformed_D_iris[:, 0], pca_transformed_D_iris[:, 1])\n",
        "plt.xlabel('PC0')\n",
        "plt.ylabel('PC1')\n",
        "plt.title('PCA-transformed iris data using 2 principal components')"
      ],
      "metadata": {
        "id": "whWC4ktB9xgP",
        "outputId": "4b5afef8-3c10-4a20-b035-92a01bbb6f10",
        "colab": {
          "base_uri": "https://localhost:8080/",
          "height": 313
        }
      },
      "execution_count": null,
      "outputs": [
        {
          "output_type": "execute_result",
          "data": {
            "text/plain": [
              "Text(0.5, 1.0, 'PCA-transformed iris data using 2 principal components')"
            ]
          },
          "metadata": {},
          "execution_count": 43
        },
        {
          "output_type": "display_data",
          "data": {
            "text/plain": [
              "<Figure size 432x288 with 1 Axes>"
            ],
            "image/png": "[encoded data removed]"
          },
          "metadata": {
            "needs_background": "light"
          }
        }
      ]
    }
  ]
}