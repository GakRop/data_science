{
  "nbformat": 4,
  "nbformat_minor": 0,
  "metadata": {
    "colab": {
      "provenance": []
    },
    "kernelspec": {
      "name": "python3",
      "display_name": "Python 3"
    },
    "language_info": {
      "name": "python"
    }
  },
  "cells": [
    {
      "cell_type": "code",
      "execution_count": null,
      "metadata": {
        "colab": {
          "base_uri": "https://localhost:8080/"
        },
        "id": "jACbIB_N_zdN",
        "outputId": "813fbc2f-ac1f-400d-d328-cbd428772408"
      },
      "outputs": [
        {
          "output_type": "execute_result",
          "data": {
            "text/plain": [
              "{'1': 0.0,\n",
              " '10': 0.0,\n",
              " '11': 0.05454545454545454,\n",
              " '12': 0.7363636363636363,\n",
              " '2': 0.0,\n",
              " '3': 0.4909090909090909,\n",
              " '4': 0.0,\n",
              " '5': 0.045454545454545456,\n",
              " '6': 0.0,\n",
              " '7': 0.0,\n",
              " '8': 0.0,\n",
              " '9': 0.0}"
            ]
          },
          "metadata": {},
          "execution_count": 7
        }
      ],
      "source": [
        "import numpy as np\n",
        "import matplotlib.pyplot as plt\n",
        "import networkx as nx\n",
        "\n",
        "G = nx.Graph()\n",
        "G.add_edge(\"1\", \"2\")\n",
        "G.add_edge(\"1\", \"3\")\n",
        "G.add_edge(\"2\", \"3\")\n",
        "G.add_edge(\"3\", \"4\")\n",
        "G.add_edge(\"3\", \"5\")\n",
        "G.add_edge(\"3\", \"12\")\n",
        "G.add_edge(\"4\", \"5\")\n",
        "G.add_edge(\"5\", \"11\")\n",
        "G.add_edge(\"6\", \"7\")\n",
        "G.add_edge(\"6\", \"12\")\n",
        "G.add_edge(\"7\", \"12\")\n",
        "G.add_edge(\"8\", \"12\")\n",
        "G.add_edge(\"9\", \"12\")\n",
        "G.add_edge(\"10\", \"12\")\n",
        "G.add_edge(\"11\", \"12\")\n",
        "\n",
        "nx.betweenness_centrality(G)"
      ]
    },
    {
      "cell_type": "code",
      "source": [
        "nx.eigenvector_centrality(G)"
      ],
      "metadata": {
        "colab": {
          "base_uri": "https://localhost:8080/"
        },
        "id": "Z14a52_Tfdkb",
        "outputId": "c11ba76b-bc2a-4118-b7b6-b7a5cfa2b46d"
      },
      "execution_count": null,
      "outputs": [
        {
          "output_type": "execute_result",
          "data": {
            "text/plain": [
              "{'1': 0.21086454283237194,\n",
              " '10': 0.1655995303513709,\n",
              " '11': 0.25929496322149226,\n",
              " '12': 0.5310014523926223,\n",
              " '2': 0.21086454283237194,\n",
              " '3': 0.46528704789070097,\n",
              " '4': 0.23879994540475255,\n",
              " '5': 0.3004407253859518,\n",
              " '6': 0.24064930403878465,\n",
              " '7': 0.24064930403878465,\n",
              " '8': 0.1655995303513709,\n",
              " '9': 0.1655995303513709}"
            ]
          },
          "metadata": {},
          "execution_count": 8
        }
      ]
    },
    {
      "cell_type": "code",
      "source": [
        "deg_vals = dict(nx.degree(G)).values()\n",
        "plt.hist(deg_vals)\n",
        "plt.xlabel('degree')\n",
        "plt.ylabel('number of nodes with degree')"
      ],
      "metadata": {
        "colab": {
          "base_uri": "https://localhost:8080/",
          "height": 297
        },
        "id": "OGNgghSuf1OD",
        "outputId": "d01ebc9a-b992-44e0-ec95-1b76b02ac308"
      },
      "execution_count": null,
      "outputs": [
        {
          "output_type": "execute_result",
          "data": {
            "text/plain": [
              "Text(0, 0.5, 'number of nodes with degree')"
            ]
          },
          "metadata": {},
          "execution_count": 6
        },
        {
          "output_type": "display_data",
          "data": {
            "image/png": "[encoded data removed]",
            "text/plain": [
              "<Figure size 432x288 with 1 Axes>"
            ]
          },
          "metadata": {
            "needs_background": "light"
          }
        }
      ]
    }
  ]
}